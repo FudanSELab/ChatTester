{
 "cells": [
  {
   "cell_type": "code",
   "execution_count": 1,
   "metadata": {},
   "outputs": [],
   "source": [
    "\n",
    "\n",
    "def add_extend_to_code_block(code, tab_num=1):\n",
    "    lines_with_tabs = [' '*4*tab_num + line for line in code.split('\\n')]\n",
    "    return '\\n'.join(lines_with_tabs)\n",
    "\n"
   ]
  },
  {
   "cell_type": "code",
   "execution_count": 6,
   "metadata": {},
   "outputs": [
    {
     "name": "stdout",
     "output_type": "stream",
     "text": [
      "@Test(timeout = 4000)\n",
      "public void test4() throws Throwable {\n",
      "    hello;\n",
      "}\n"
     ]
    }
   ],
   "source": [
    "src = \"\"\"@Test(timeout = 4000)\n",
    "public void test4() throws Throwable {\n",
    "    hello;\n",
    "}\"\"\"\n",
    "print(src)"
   ]
  },
  {
   "cell_type": "code",
   "execution_count": 7,
   "metadata": {},
   "outputs": [
    {
     "name": "stdout",
     "output_type": "stream",
     "text": [
      "    @Test(timeout = 4000)\n",
      "    public void test4() throws Throwable {\n",
      "        hello;\n",
      "    }\n"
     ]
    }
   ],
   "source": [
    "print(add_extend_to_code_block(src))"
   ]
  },
  {
   "cell_type": "code",
   "execution_count": 12,
   "metadata": {},
   "outputs": [
    {
     "name": "stderr",
     "output_type": "stream",
     "text": [
      "/Library/Frameworks/Python.framework/Versions/3.11/lib/python3.11/site-packages/bs4/builder/__init__.py:545: XMLParsedAsHTMLWarning: It looks like you're parsing an XML document using an HTML parser. If this really is an HTML document (maybe it's XHTML?), you can ignore or filter this warning. If it's XML, you should know that using an XML parser will be more reliable. To parse this document as XML, make sure you have the lxml package installed, and pass the keyword argument `features=\"xml\"` into the BeautifulSoup constructor.\n",
      "  warnings.warn(\n"
     ]
    }
   ],
   "source": [
    "from bs4 import BeautifulSoup\n",
    "import os\n",
    "\n",
    "repo_dir = '../repos/GoSimpleLLC_nbvcxz'\n",
    "report_fpath = os.path.join(repo_dir, 'target/jacoco-report/index.html')\n",
    "with open(report_fpath, 'r') as file:\n",
    "    html_content = file.read()\n",
    "soup = BeautifulSoup(html_content, 'lxml')\n",
    "table = soup.find('table', class_='coverage')\n",
    "# result row\n",
    "foot_row = table.find('tfoot').find_all('tr')\n",
    "# for row in rows:\n",
    "#     # 假设第二列包含分支覆盖率，第三列包含行覆盖率\n",
    "#     branch_coverage = row.find_all('td')[1].text.strip()\n",
    "#     line_coverage = row.find_all('td')[2].text.strip()\n",
    "\n"
   ]
  },
  {
   "cell_type": "code",
   "execution_count": 17,
   "metadata": {},
   "outputs": [
    {
     "name": "stdout",
     "output_type": "stream",
     "text": [
      "704 of 741\n",
      "1,549\n",
      "1,667\n"
     ]
    }
   ],
   "source": [
    "print(foot_row[0].find_all('td')[3].text.strip())\n",
    "print(foot_row[0].find_all('td')[7].text.strip())\n",
    "print(foot_row[0].find_all('td')[8].text.strip())\n"
   ]
  },
  {
   "cell_type": "code",
   "execution_count": 18,
   "metadata": {},
   "outputs": [],
   "source": [
    "def jacoco_str2int(s):\n",
    "    s = s.replace(',', '')\n",
    "    return int(s.strip())"
   ]
  },
  {
   "cell_type": "code",
   "execution_count": 20,
   "metadata": {},
   "outputs": [
    {
     "data": {
      "text/plain": [
       "741"
      ]
     },
     "execution_count": 20,
     "metadata": {},
     "output_type": "execute_result"
    }
   ],
   "source": [
    "jacoco_str2int(' 741')"
   ]
  },
  {
   "cell_type": "code",
   "execution_count": 21,
   "metadata": {},
   "outputs": [
    {
     "name": "stdout",
     "output_type": "stream",
     "text": [
      "[['focal_method', 'missed_branches', 'total_branches', 'missed_lines', 'total_lines', 'branch_coverage', 'line_coverage']]\n"
     ]
    }
   ],
   "source": [
    "import csv\n",
    "def save_result(file_path, results):\n",
    "    with open(file_path, mode='w', newline='', encoding='utf-8') as file:\n",
    "        writer = csv.writer(file)\n",
    "        # 写入多行数据\n",
    "        writer.writerows(results)\n",
    "\n",
    "output_path = '../coverage_result/single.csv'\n",
    "single_method_result = [\n",
    "    ['focal_method', 'missed_branches', 'total_branches', 'missed_lines', 'total_lines', 'branch_coverage', 'line_coverage']\n",
    "]\n",
    "\n",
    "if not os.path.exists(output_path):\n",
    "    save_result(output_path, single_method_result)\n",
    "    csv_reader = csv.reader(open(output_path, mode='r', encoding='utf-8'))\n",
    "    datas = [data for data in csv_reader]\n",
    "\n",
    "print(datas)\n"
   ]
  },
  {
   "cell_type": "code",
   "execution_count": 29,
   "metadata": {},
   "outputs": [
    {
     "name": "stdout",
     "output_type": "stream",
     "text": [
      "['asb', 2, 3]\n"
     ]
    }
   ],
   "source": [
    "import json\n",
    "str1 = \"['DictionaryMatcher_ESTest.java###test0+++put###2', 'DictionaryMatcher_ESTest.java###test0+++add###1', 'DictionaryMatcher_ESTest.java###test0+++compile###1']\"\n",
    "list1 = json.loads('[\"asb\", 2, 3]')\n",
    "print(list1)"
   ]
  },
  {
   "cell_type": "code",
   "execution_count": 33,
   "metadata": {},
   "outputs": [
    {
     "name": "stdout",
     "output_type": "stream",
     "text": [
      "DictionaryMatcher_ESTest.java###test0+++put###2, DictionaryMatcher_ESTest.java###test0+++add###1, DictionaryMatcher_ESTest.java###test0+++compile###1\n"
     ]
    }
   ],
   "source": [
    "import ast\n",
    "abc = \"[DictionaryMatcher_ESTest.java###test0+++put###2, DictionaryMatcher_ESTest.java###test0+++add###1, DictionaryMatcher_ESTest.java###test0+++compile###1]\".strip('[]')\n",
    "print(abc)"
   ]
  },
  {
   "cell_type": "code",
   "execution_count": 37,
   "metadata": {},
   "outputs": [
    {
     "data": {
      "text/plain": [
       "{'312': 'asda'}"
      ]
     },
     "execution_count": 37,
     "metadata": {},
     "output_type": "execute_result"
    }
   ],
   "source": [
    "sac = {}\n",
    "sac['312']='asda'\n",
    "sac"
   ]
  },
  {
   "cell_type": "code",
   "execution_count": 11,
   "metadata": {},
   "outputs": [
    {
     "name": "stdout",
     "output_type": "stream",
     "text": [
      "73\n"
     ]
    }
   ],
   "source": [
    "import json\n",
    "\n",
    "with open('../json/athenatest/GoSimpleLLC_nbvcxz_output.jsonl', 'r') as file:\n",
    "    lines = file.readlines()\n",
    "    datas = [json.loads(line) for line in lines]\n",
    "\n",
    "print(len(datas))\n",
    "    \n",
    "    "
   ]
  },
  {
   "cell_type": "code",
   "execution_count": null,
   "metadata": {},
   "outputs": [],
   "source": []
  }
 ],
 "metadata": {
  "kernelspec": {
   "display_name": "Python 3",
   "language": "python",
   "name": "python3"
  },
  "language_info": {
   "codemirror_mode": {
    "name": "ipython",
    "version": 3
   },
   "file_extension": ".py",
   "mimetype": "text/x-python",
   "name": "python",
   "nbconvert_exporter": "python",
   "pygments_lexer": "ipython3",
   "version": "3.11.4"
  }
 },
 "nbformat": 4,
 "nbformat_minor": 2
}
